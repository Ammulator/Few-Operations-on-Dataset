{
  "nbformat": 4,
  "nbformat_minor": 0,
  "metadata": {
    "colab": {
      "name": "Operations on Dataset.ipynb",
      "provenance": [],
      "authorship_tag": "ABX9TyO/KYWcUjYLEaVnp+nKJjGm",
      "include_colab_link": true
    },
    "kernelspec": {
      "name": "python3",
      "display_name": "Python 3"
    }
  },
  "cells": [
    {
      "cell_type": "markdown",
      "metadata": {
        "id": "view-in-github",
        "colab_type": "text"
      },
      "source": [
        "<a href=\"https://colab.research.google.com/github/Ammulator/Few-Operations-on-Dataset/blob/main/Operations_on_Dataset.ipynb\" target=\"_parent\"><img src=\"https://colab.research.google.com/assets/colab-badge.svg\" alt=\"Open In Colab\"/></a>"
      ]
    },
    {
      "cell_type": "code",
      "metadata": {
        "id": "f4B27aRWj5-J"
      },
      "source": [
        "import pandas as pd\r\n"
      ],
      "execution_count": 1,
      "outputs": []
    },
    {
      "cell_type": "code",
      "metadata": {
        "colab": {
          "base_uri": "https://localhost:8080/"
        },
        "id": "kbzCOaVYlD-B",
        "outputId": "a7265517-8e33-4afd-d431-e95ff2270828"
      },
      "source": [
        "df=pd.read_csv(\"sample_data/california_housing_train.csv\")\r\n",
        "#For Selecting Single Column\r\n",
        "col=df['total_rooms']\r\n",
        "print(col)"
      ],
      "execution_count": 5,
      "outputs": [
        {
          "output_type": "stream",
          "text": [
            "0        5612.0\n",
            "1        7650.0\n",
            "2         720.0\n",
            "3        1501.0\n",
            "4        1454.0\n",
            "          ...  \n",
            "16995    2217.0\n",
            "16996    2349.0\n",
            "16997    2677.0\n",
            "16998    2672.0\n",
            "16999    1820.0\n",
            "Name: total_rooms, Length: 17000, dtype: float64\n"
          ],
          "name": "stdout"
        }
      ]
    },
    {
      "cell_type": "code",
      "metadata": {
        "colab": {
          "base_uri": "https://localhost:8080/"
        },
        "id": "-Vcq9EC3mKc3",
        "outputId": "ec5718bd-313c-4d8a-ef34-442374e8a75d"
      },
      "source": [
        "#For Selecting Multiple Columns\r\n",
        "mcol=df[['housing_median_age','total_bedrooms','households']]\r\n",
        "print(mcol.head())"
      ],
      "execution_count": 7,
      "outputs": [
        {
          "output_type": "stream",
          "text": [
            "   housing_median_age  total_bedrooms  households\n",
            "0                15.0          1283.0       472.0\n",
            "1                19.0          1901.0       463.0\n",
            "2                17.0           174.0       117.0\n",
            "3                14.0           337.0       226.0\n",
            "4                20.0           326.0       262.0\n"
          ],
          "name": "stdout"
        }
      ]
    },
    {
      "cell_type": "code",
      "metadata": {
        "colab": {
          "base_uri": "https://localhost:8080/"
        },
        "id": "OJiD4w6EmnFk",
        "outputId": "e605e22c-dd13-4bc3-8dd7-d8d9b7df636b"
      },
      "source": [
        "#Creating New columns\r\n",
        "df['Rooms']=df['total_rooms']== 812\r\n",
        "print(df.head())"
      ],
      "execution_count": 9,
      "outputs": [
        {
          "output_type": "stream",
          "text": [
            "   longitude  latitude  ...  median_house_value  Rooms\n",
            "0    -114.31     34.19  ...             66900.0  False\n",
            "1    -114.47     34.40  ...             80100.0  False\n",
            "2    -114.56     33.69  ...             85700.0  False\n",
            "3    -114.57     33.64  ...             73400.0  False\n",
            "4    -114.57     33.57  ...             65500.0  False\n",
            "\n",
            "[5 rows x 10 columns]\n"
          ],
          "name": "stdout"
        }
      ]
    },
    {
      "cell_type": "code",
      "metadata": {
        "colab": {
          "base_uri": "https://localhost:8080/"
        },
        "id": "6a8jNUswrHbY",
        "outputId": "ed67b169-ef3c-4778-cbe1-f7a333c0e9f9"
      },
      "source": [
        "#Converting Pandas Series to Numpy Array\r\n",
        "arr=df['total_rooms'].values\r\n",
        "print(arr)"
      ],
      "execution_count": 11,
      "outputs": [
        {
          "output_type": "stream",
          "text": [
            "[5612. 7650.  720. ... 2677. 2672. 1820.]\n"
          ],
          "name": "stdout"
        }
      ]
    },
    {
      "cell_type": "code",
      "metadata": {
        "colab": {
          "base_uri": "https://localhost:8080/"
        },
        "id": "ETkTYvXgrvG8",
        "outputId": "d0393d9e-d649-4de7-dc28-ba0fb7f23c5c"
      },
      "source": [
        "#Converting Pandas Dataframe to Numpy Array\r\n",
        "arr1=df[['latitude','longitude']].values\r\n",
        "print(arr1)"
      ],
      "execution_count": 15,
      "outputs": [
        {
          "output_type": "stream",
          "text": [
            "[[  34.19 -114.31]\n",
            " [  34.4  -114.47]\n",
            " [  33.69 -114.56]\n",
            " ...\n",
            " [  41.84 -124.3 ]\n",
            " [  41.8  -124.3 ]\n",
            " [  40.54 -124.35]]\n"
          ],
          "name": "stdout"
        }
      ]
    },
    {
      "cell_type": "code",
      "metadata": {
        "colab": {
          "base_uri": "https://localhost:8080/"
        },
        "id": "HJmoMuCps17q",
        "outputId": "8eba5e1f-21dc-4164-bcd2-3c98062ab488"
      },
      "source": [
        "#Masking- Selecting row with certain criteria\r\n",
        "arr=df[['latitude','total_rooms','housing_median_age']].values[:20]\r\n",
        "#Housing_median_age Lower than 18\r\n",
        "mask=arr[:,2]<18\r\n",
        "print(mask)\r\n",
        "print(\"\\n\\n\")\r\n",
        "print(arr[mask])\r\n",
        "print(\"\\n\\n\")\r\n",
        "print(\"\\n\\n\")\r\n",
        "#For shotcut for calculating greator than 18\r\n",
        "print(arr[arr[:,2]>18])"
      ],
      "execution_count": 19,
      "outputs": [
        {
          "output_type": "stream",
          "text": [
            "[ True False  True  True False False False False False False  True False\n",
            " False False  True  True False False  True  True]\n",
            "\n",
            "\n",
            "\n",
            "[[  34.19 5612.     15.  ]\n",
            " [  33.69  720.     17.  ]\n",
            " [  33.64 1501.     14.  ]\n",
            " [  33.62 3741.     16.  ]\n",
            " [  32.76 1448.     15.  ]\n",
            " [  34.89 2556.     17.  ]\n",
            " [  32.74 1388.     17.  ]\n",
            " [  33.92   97.     17.  ]]\n",
            "\n",
            "\n",
            "\n",
            "\n",
            "\n",
            "\n",
            "[[  34.4  7650.     19.  ]\n",
            " [  33.57 1454.     20.  ]\n",
            " [  33.63 1387.     29.  ]\n",
            " [  33.61 2907.     25.  ]\n",
            " [  34.83  812.     41.  ]\n",
            " [  33.61 4789.     34.  ]\n",
            " [  34.83 1497.     46.  ]\n",
            " [  33.6  1988.     21.  ]\n",
            " [  34.84 1291.     48.  ]\n",
            " [  34.83 2478.     31.  ]\n",
            " [  33.6  1678.     28.  ]\n",
            " [  32.79   44.     21.  ]]\n"
          ],
          "name": "stdout"
        }
      ]
    },
    {
      "cell_type": "code",
      "metadata": {
        "colab": {
          "base_uri": "https://localhost:8080/"
        },
        "id": "XAvsnww6yud0",
        "outputId": "b9a81096-4ae5-4fb4-ad60-d2d2509b9545"
      },
      "source": [
        "#Summing and Counting of Above value\r\n",
        "print(mask.sum())\r\n",
        "#or\r\n",
        "print((arr[:,2]<18).sum())"
      ],
      "execution_count": 24,
      "outputs": [
        {
          "output_type": "stream",
          "text": [
            "8\n",
            "8\n"
          ],
          "name": "stdout"
        }
      ]
    },
    {
      "cell_type": "code",
      "metadata": {
        "colab": {
          "base_uri": "https://localhost:8080/"
        },
        "id": "F5GUbcPk0GDK",
        "outputId": "3c7ce466-383d-41ce-aacd-d35ec596510d"
      },
      "source": [
        "import numpy as np\r\n",
        "import pandas as pd\r\n",
        "filename = input(\"Enter the file name:\")\r\n",
        "df=pd.read_csv(filename)\r\n",
        "print(df.head())\r\n",
        "column_name = input(\"Enter the column name:\")\r\n",
        "a=df[column_name].values\r\n",
        "print(a)\r\n"
      ],
      "execution_count": 27,
      "outputs": [
        {
          "output_type": "stream",
          "text": [
            "Enter the file name:sample_data/california_housing_train.csv\n",
            "   longitude  latitude  ...  median_income  median_house_value\n",
            "0    -114.31     34.19  ...         1.4936             66900.0\n",
            "1    -114.47     34.40  ...         1.8200             80100.0\n",
            "2    -114.56     33.69  ...         1.6509             85700.0\n",
            "3    -114.57     33.64  ...         3.1917             73400.0\n",
            "4    -114.57     33.57  ...         1.9250             65500.0\n",
            "\n",
            "[5 rows x 9 columns]\n",
            "Enter the column name:longitude\n",
            "[-114.31 -114.47 -114.56 ... -124.3  -124.3  -124.35]\n"
          ],
          "name": "stdout"
        }
      ]
    }
  ]
}